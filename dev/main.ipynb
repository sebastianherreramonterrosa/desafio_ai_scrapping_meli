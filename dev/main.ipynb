{
 "cells": [
  {
   "cell_type": "code",
   "execution_count": 20,
   "id": "691ad743",
   "metadata": {},
   "outputs": [],
   "source": [
    "import asyncio\n",
    "import inspect\n",
    "import json\n",
    "import os\n",
    "import re\n",
    "import urllib.parse\n",
    "\n",
    "import dotenv\n",
    "import nest_asyncio\n",
    "import pandas\n",
    "import requests\n",
    "from bs4 import BeautifulSoup\n",
    "from langchain_community.document_loaders import AsyncHtmlLoader\n",
    "from langchain_community.document_transformers import Html2TextTransformer\n",
    "from langchain_core.documents import Document\n",
    "from openai import OpenAI\n",
    "from playwright.async_api import async_playwright\n",
    "from pydantic import BaseModel, Field"
   ]
  },
  {
   "cell_type": "code",
   "execution_count": 21,
   "id": "fb66f30d",
   "metadata": {},
   "outputs": [],
   "source": [
    "nest_asyncio.apply()"
   ]
  },
  {
   "cell_type": "code",
   "execution_count": 22,
   "id": "859944d7",
   "metadata": {},
   "outputs": [
    {
     "data": {
      "text/plain": [
       "True"
      ]
     },
     "execution_count": 22,
     "metadata": {},
     "output_type": "execute_result"
    }
   ],
   "source": [
    "dotenv.load_dotenv(dotenv.find_dotenv())"
   ]
  },
  {
   "cell_type": "code",
   "execution_count": 23,
   "id": "29103fff",
   "metadata": {},
   "outputs": [],
   "source": [
    "query = \"celulares\"\n",
    "page_number = 1"
   ]
  },
  {
   "cell_type": "code",
   "execution_count": 24,
   "id": "1761c6df",
   "metadata": {},
   "outputs": [],
   "source": [
    "def build_search_url(term: str, page: int = 1) -> str:\n",
    "    base = \"https://www.falabella.com.co/falabella-co/search\"\n",
    "    query = urllib.parse.urlencode({\"Ntt\": term, \"page\": page})\n",
    "    return f\"{base}?{query}\""
   ]
  },
  {
   "cell_type": "code",
   "execution_count": 25,
   "id": "b54fefe2",
   "metadata": {},
   "outputs": [
    {
     "name": "stdout",
     "output_type": "stream",
     "text": [
      "🌐 Navegando...\n",
      "https://www.falabella.com.co/falabella-co/category/cat1660941/Celulares-y-Telefonos?sred=celular\n",
      "https://www.falabella.com.co/falabella-co/category/cat1660941/Celulares-y-Telefonos?sred=celular\n",
      "✅ HTML: 2151296 caracteres\n"
     ]
    }
   ],
   "source": [
    "async def get_urls_search_scrapping(term: str, page_number: int = 1) -> list[str]:\n",
    "    async with async_playwright() as p:\n",
    "        browser = await p.chromium.launch(headless=True)\n",
    "        page = await browser.new_page()\n",
    "\n",
    "        try:\n",
    "            print(\"🌐 Navegando...\")\n",
    "            URL = build_search_url(term, page_number)\n",
    "            await page.goto(URL, wait_until=\"networkidle\", timeout=15000)\n",
    "\n",
    "            print(page.url)\n",
    "\n",
    "            final_url = page.url\n",
    "            if f\"&page={page_number}\" not in final_url and page_number > 1:\n",
    "                parsed = urllib.parse.urlparse(final_url)\n",
    "                qs = urllib.parse.parse_qs(parsed.query)\n",
    "                qs[\"page\"] = [str(page_number)]\n",
    "                final_url = parsed._replace(query=urllib.parse.urlencode(qs, doseq=True)).geturl()\n",
    "\n",
    "                # 3) re-navegar a la URL corregida\n",
    "                await page.goto(final_url, wait_until=\"networkidle\", timeout=15000)\n",
    "\n",
    "            print(page.url)\n",
    "            await page.wait_for_timeout(3000)\n",
    "\n",
    "            html = await page.content()\n",
    "            print(f\"✅ HTML: {len(html)} caracteres\")\n",
    "\n",
    "            soup = BeautifulSoup(html, \"html.parser\")\n",
    "\n",
    "            # Eliminar scripts y estilos\n",
    "            for tag in soup([\"script\", \"style\"]):\n",
    "                tag.decompose()\n",
    "\n",
    "            anchors = soup.find_all(\"a\", href=True)\n",
    "            URLS_SEARCH = []\n",
    "            for a in anchors:\n",
    "                href = a[\"href\"]\n",
    "                if href.startswith(\"http\"):\n",
    "                    URLS_SEARCH.append(href)\n",
    "\n",
    "            return URLS_SEARCH\n",
    "\n",
    "        finally:\n",
    "            await browser.close()\n",
    "\n",
    "\n",
    "URLS_SEARCH = asyncio.run(get_urls_search_scrapping(query, page_number))"
   ]
  },
  {
   "cell_type": "code",
   "execution_count": null,
   "id": "b5e74e3f",
   "metadata": {},
   "outputs": [],
   "source": [
    "URLS_SEARCH"
   ]
  },
  {
   "cell_type": "code",
   "execution_count": 27,
   "id": "665a08ee",
   "metadata": {},
   "outputs": [],
   "source": [
    "class RegexPattern(BaseModel):\n",
    "    pattern: str = Field(description=\"Patrón de expresión regular para detectar URLS_SEARCH de productos. El patrón será evaluado con re.compile(...).\")\n",
    "\n",
    "\n",
    "def get_pattern(URLS_SEARCH: list[str]):\n",
    "    client = OpenAI(api_key=os.getenv(\"OPENAI_API_KEY\"))\n",
    "    model_prompt = inspect.cleandoc(\n",
    "        f\"\"\"\n",
    "        Las siguientes URLS fueron obtenidas mediante web scraping de un sitio de e-commerce con una consulta de búsqueda de productos.\n",
    "\n",
    "        URLS_SEARCH:\n",
    "        URLS_SEARCH = {URLS_SEARCH}\n",
    "\n",
    "        Analiza estas URLS_SEARCH e identifica un patrón para detectar cuáles corresponden a páginas de productos. Escribe un patrón de expresión regular pra la función get_url_products que reciba este arreglo de URLS_SEARCH y devuelva solo aquellas que corresponden a productos.\n",
    "\n",
    "        Requisitos:\n",
    "        - La función debe usar un patrón regex para identificar URLS_SEARCH de productos\n",
    "        - Considera estructuras comunes de URLS_SEARCH de e-commerce (ej: /product/, /item/, /p/, IDs de productos, etc.)\n",
    "        - El patrón debe ser específico para evitar falsos positivos pero flexible para capturar variaciones\n",
    "        - Prueba mentalmente la lógica de tu patrón contra las URLS_SEARCH proporcionadas\n",
    "        - Incluye la URL del sitio\n",
    "\n",
    "        Estructura esperada de la función:\n",
    "        ```python                           \n",
    "        import re\n",
    "\n",
    "        def get_url_products(URLS_SEARCH: list[str]) -> list[str]:\n",
    "            \\\"\\\"\\\"\n",
    "            Filtra URLS_SEARCH para devolver solo aquellas que corresponden a páginas de productos.\n",
    "            \n",
    "            Args:\n",
    "                URLS_SEARCH: Lista de URLS_SEARCH obtenidas del scraping del sitio de e-commerce\n",
    "                \n",
    "            Returns:\n",
    "                Lista de URLS_SEARCH que coinciden con patrones de páginas de productos\n",
    "            \\\"\\\"\\\"\n",
    "            product_pattern = re.compile(r'tu_patron_aqui')\n",
    "            return [url for url in URLS_SEARCH if product_pattern.search(url)]                           \n",
    "        ```\n",
    "        \"\"\"\n",
    "    )\n",
    "\n",
    "    completion = client.beta.chat.completions.parse(\n",
    "        model=\"gpt-4.1\",\n",
    "        messages=[\n",
    "            {\n",
    "                \"role\": \"user\",\n",
    "                \"content\": [\n",
    "                    {\"type\": \"text\", \"text\": model_prompt},\n",
    "                ],\n",
    "            }\n",
    "        ],\n",
    "        temperature=0,\n",
    "        response_format=RegexPattern,\n",
    "    )\n",
    "\n",
    "    event = completion.choices[0].message.parsed\n",
    "\n",
    "    return event.pattern"
   ]
  },
  {
   "cell_type": "code",
   "execution_count": 28,
   "id": "e746d5d9",
   "metadata": {},
   "outputs": [],
   "source": [
    "def get_url_products(URLS_SEARCH: list[str], pattern_search_urls: str) -> list[str]:\n",
    "    product_pattern = re.compile(pattern_search_urls)\n",
    "    return [url for url in URLS_SEARCH if product_pattern.search(url)]"
   ]
  },
  {
   "cell_type": "code",
   "execution_count": null,
   "id": "962c6e83",
   "metadata": {},
   "outputs": [],
   "source": [
    "URLS_PRODUCTS = []\n",
    "while len(URLS_PRODUCTS) == 0:\n",
    "    pattern_search_urls = get_pattern(URLS_SEARCH)\n",
    "    URLS_PRODUCTS = get_url_products(URLS_SEARCH, pattern_search_urls)\n",
    "URLS_PRODUCTS"
   ]
  },
  {
   "cell_type": "code",
   "execution_count": null,
   "id": "c5cd642c",
   "metadata": {},
   "outputs": [],
   "source": [
    "def get_product_scrapping(url_product: str, timeout: int = 10) -> tuple[str, list[str]]:\n",
    "    try:\n",
    "        response = requests.get(url_product, timeout=timeout)\n",
    "        response.raise_for_status()\n",
    "        html = response.text\n",
    "    except requests.Timeout:\n",
    "        print(f\"Timeout alcanzado para: {url_product}\")\n",
    "        return \"\", []\n",
    "    except requests.RequestException as e:\n",
    "        print(f\"Error al hacer la solicitud: {e}\")\n",
    "        return \"\", []\n",
    "\n",
    "    # Procesar HTML con BeautifulSoup\n",
    "    soup = BeautifulSoup(html, \"html.parser\")\n",
    "    for tag in soup([\"script\", \"style\"]):\n",
    "        tag.decompose()\n",
    "\n",
    "    # Extraer URLs de imágenes\n",
    "    product_image_urls = [image[\"src\"] for image in soup.find_all(\"img\", src=True) if image[\"src\"].startswith(\"http\")]\n",
    "\n",
    "    # Transformar HTML a texto con Html2TextTransformer (requiere Document)\n",
    "    html2text = Html2TextTransformer()\n",
    "    docs_transformed = html2text.transform_documents([Document(page_content=html)])\n",
    "    product_page_content = docs_transformed[0].page_content\n",
    "\n",
    "    return product_page_content, product_image_urls"
   ]
  },
  {
   "cell_type": "code",
   "execution_count": null,
   "id": "4c3bdd7d",
   "metadata": {},
   "outputs": [],
   "source": [
    "class Product(BaseModel):\n",
    "    id: str = Field(..., description=\"Identificador único del producto\")\n",
    "    title: str = Field(..., description=\"Título o nombre del producto\")\n",
    "    price: float = Field(..., description=\"Precio del producto en formato numérico\")\n",
    "    image_url: str = Field(..., description=\"URL directa a la imagen del producto. Extrae una de la lista de imagenes teniendo en cuanta id de producto\")\n",
    "    description: str = Field(..., description=\"Descripción del producto\")"
   ]
  },
  {
   "cell_type": "code",
   "execution_count": null,
   "id": "04a12258",
   "metadata": {},
   "outputs": [],
   "source": [
    "def get_product_info(product_page_content: str, product_image_urls: list[str], url_product: str) -> Product:\n",
    "    client = OpenAI(api_key=os.getenv(\"OPENAI_API_KEY\"))\n",
    "    print(f\"Procesando información URL: {url_product}\")\n",
    "\n",
    "    prompt_text = inspect.cleandoc(\n",
    "        f\"\"\"\n",
    "        A partir de la siguiente información de producto, extrae los siguientes datos estructurados del producto:\n",
    "        - id: identificador único. se encuantra en la URL y en la mayoría de veces en la descripción.\n",
    "        - title: nombre del producto\n",
    "        - price: precio como número\n",
    "        - image_url: enlace una imagen del producto. coincidencia por id.\n",
    "        - description: descripción del producto mencionando características técnicas\"\n",
    "\n",
    "        ## URL: {url_product}\n",
    "        \n",
    "        ## Descripción de producto\n",
    "        {product_page_content}\n",
    "\n",
    "        ## URLS IMAGENES\n",
    "        URL_IMAGENES = {product_image_urls}\n",
    "        \"\"\"\n",
    "    )\n",
    "\n",
    "    completion = client.beta.chat.completions.parse(\n",
    "        model=\"gpt-4.1-mini\",\n",
    "        messages=[\n",
    "            {\n",
    "                \"role\": \"user\",\n",
    "                \"content\": [\n",
    "                    {\"type\": \"text\", \"text\": prompt_text},\n",
    "                ],\n",
    "            }\n",
    "        ],\n",
    "        response_format=Product,\n",
    "    )\n",
    "    event = completion.choices[0].message.parsed\n",
    "    return event"
   ]
  },
  {
   "cell_type": "code",
   "execution_count": null,
   "id": "706e271e",
   "metadata": {},
   "outputs": [],
   "source": [
    "# url_product = 'https://www.falabella.com.co/falabella-co/product/137209541/Celular-Oppo-A40-256GB-Lila/137209542'\n",
    "# product_page_content, product_image_urls = get_product_scrapping(url_product)\n",
    "# product_info = get_product_info(product_page_content, product_image_urls, url_product)"
   ]
  },
  {
   "cell_type": "code",
   "execution_count": null,
   "id": "0ac6689f",
   "metadata": {},
   "outputs": [],
   "source": [
    "def get_products(URLS_PRODUCTS: list[str]) -> dict:\n",
    "\n",
    "    results = []\n",
    "\n",
    "    for url_product in URLS_PRODUCTS[:3]:\n",
    "        product_page_content, product_image_urls = get_product_scrapping(url_product)\n",
    "        product_info = get_product_info(product_page_content, product_image_urls, url_product)\n",
    "\n",
    "        results.append(\n",
    "            {\n",
    "                \"ID\": product_info.id,\n",
    "                \"TITLE\": product_info.title,\n",
    "                \"PRICE\": product_info.price,\n",
    "                \"IMAGE_URL\": product_info.image_url,\n",
    "                \"DESCRIPTION\": product_info.description,\n",
    "            }\n",
    "        )\n",
    "\n",
    "    return results"
   ]
  },
  {
   "cell_type": "code",
   "execution_count": null,
   "id": "c090fb80",
   "metadata": {},
   "outputs": [
    {
     "name": "stdout",
     "output_type": "stream",
     "text": [
      "Procesando información URL: https://www.falabella.com.co/falabella-co/product/140755625/CELULAR-XIAOMI-REDMI-NOTE-14-PRO-4g-8+256GB-AZUL/140755626\n",
      "Procesando información URL: https://www.falabella.com.co/falabella-co/product/73142852/Celular-Samsung-Galaxy-S24-FE-Negro-+-128GB-8GB-RAM-camara-posterior-50-MP-camara-frontal-10-MP-pantalla-6.7-pulgadas-+-Exyno-2400e/73142852?sponsoredClickData=%257B%2522isXLP%2522%253Atrue%252C%2522pageType%2522%253A%2522category%2522%252C%2522adType%2522%253A%2522products%2522%252C%2522platform%2522%253A%2522desktop%2522%252C%2522regionCode%2522%253A%2522co%2522%252C%2522context%2522%253A%257B%2522userIdentifier%2522%253A%2522MTc0OTAwMzUwMzAwOA%253D%253D%2522%252C%2522adIdentifier%2522%253A%2522v2_9fgu7is3vM-LosysmfuhjGqAFJKPlfRSHyyN1jn60jQyJjVZ6dfKXiO1IVh2_HLSyPapIUkpRSCkvyQ9el5ktxm2P0-BrKJENOjVYbpzN_yqJLGIz1EWMWNy5lQ65KRqGXh9PzVGJc4xSYDtS9r1ba5aWESxEVo_b46iv3W31Vw_y_Qii2x2JmqRCmV0IOeqMnu3EFaV-0u1E5Na8GCNWg%253D%253D_ark19738bacfa1134c303%2522%252C%2522slot%2522%253A1%252C%2522signal%2522%253A%2522Celulares-y-Telefonos%2522%257D%257D\n",
      "Procesando información URL: https://www.falabella.com.co/falabella-co/product/140072821/Celular-Xiaomi-Redmi-Note-14-Pro-Plus-5G-512-Gb-12-Ram-Negro/140072823?sponsoredClickData=%257B%2522isXLP%2522%253Atrue%252C%2522pageType%2522%253A%2522category%2522%252C%2522adType%2522%253A%2522products%2522%252C%2522platform%2522%253A%2522desktop%2522%252C%2522regionCode%2522%253A%2522co%2522%252C%2522context%2522%253A%257B%2522userIdentifier%2522%253A%2522MTc0OTAwMzUwMzAwOA%253D%253D%2522%252C%2522adIdentifier%2522%253A%2522v2_Kl10jZD-Z2D-UY92CZkhAiV-3DI-1DuIbfs4Hw4HSxAyJjVZ6dfKXiO1IVh2_HLSyPapIUkpRSCkvyQ9el5kt_bhKbRs0DYrILLE4rcnI_Qf52EjUhWxh2f8sol_MK3Uk8xbKKs7TZXURIwTWuDLxQTGowKSEf92gNdwhv6-B4Y_y_Qii2x2JmqRCmV0IOeqMnu3EFaV-0u1E5Na8GCNWg%253D%253D_ark19738bacfa1134c303%2522%252C%2522slot%2522%253A2%252C%2522signal%2522%253A%2522Celulares-y-Telefonos%2522%257D%257D\n"
     ]
    },
    {
     "data": {
      "text/plain": [
       "[{'ID': '140755626',\n",
       "  'TITLE': 'CELULAR XIAOMI REDMI NOTE 14 PRO 4g 8+256GB AZUL',\n",
       "  'PRICE': 997900.0,\n",
       "  'IMAGE_URL': 'https://media.falabella.com/falabellaCO/140755626_01/w=800,h=800,fit=pad',\n",
       "  'DESCRIPTION': 'El Xiaomi Redmi Note 14 Pro 4G ofrece una experiencia móvil excepcional con características destacadas: pantalla OLED CrystalRes de 6.67 pulgadas con resolución 1.5K (1220 x 2712 píxeles) y tasa de refresco de 120 Hz con protección Corning Gorilla Glass Victus 2; procesador MediaTek Dimensity 7300 Ultra octa core a 2.2 GHz, 8 GB de RAM y 256 GB de almacenamiento interno expandible hasta 1TB; cámara principal de 200 MP, cámara ultra gran angular de 8 MP, cámara macro de 2 MP y cámara frontal de 32 MP para selfies; batería de 5500 mAh con carga rápida de 45W; conectividad 4G LTE, WiFi, Bluetooth 5.4 y Android 14 desbloqueado; diseño elegante y dimensiones de 16.2 cm x 7.44 cm x 0.82 cm; otras características incluyen doble SIM nano, pantalla OLED Full HD+ y velocidad de refresco de 120 Hz.'},\n",
       " {'ID': '73142852',\n",
       "  'TITLE': 'Celular Samsung Galaxy S24 FE Negro + 128GB 8GB RAM cámara posterior 50 MP cámara frontal 10 MP pantalla 6.7 pulgadas + Exyno 2400e',\n",
       "  'PRICE': 1819900.0,\n",
       "  'IMAGE_URL': 'https://imagedelivery.net/4fYuQyy-r8_rpBpcY7lH_A/falabellaCO/73142852_1/w=800,h=800,fit=pad',\n",
       "  'DESCRIPTION': 'El Celular Samsung Galaxy S24 FE modelo SM-S721BZKJLEC cuenta con pantalla de 6.7 pulgadas, almacenamiento interno de 128GB y memoria RAM de 8GB. Incluye cámara posterior de 50 MP y cámara frontal de 10 MP. Posee conectividad 5G, sistema operativo Android 14, procesador Samsung Exynos deca-core con velocidades de 3.1GHz, 2.9GHz, 2.6GHz y 1.95GHz, y potencia de carga de 90W. Además, tiene tasa de refresco nativa de 120 Hz, resistencia al agua con certificación IP68, GPS integrado y Bluetooth. Producto nuevo con garantía de 1 año, fabricado en Vietnam.'},\n",
       " {'ID': '140072823',\n",
       "  'TITLE': 'Celular Xiaomi Redmi Note 14 Pro Plus 5G 512 Gb 12 Ram Negro',\n",
       "  'PRICE': 1749900.0,\n",
       "  'IMAGE_URL': 'https://media.falabella.com/falabellaCO/140072823_01/w=800,h=800,fit=pad',\n",
       "  'DESCRIPTION': 'El Celular Xiaomi Redmi Note 14 Pro Plus 5G ofrece conexión 5G y cuenta con 12 GB de memoria RAM y 512 GB de almacenamiento interno. Posee un procesador Qualcomm Snapdragon 7s Gen 3 de 2,5 GHz Octa core y sistema operativo Android 13 tiramisu. Pantalla AMOLED de 6.67 pulgadas con resolución 1220 x 2712 px y tasa de refresco de 120 Hz. Cámara trasera triple de 200 MP + 8 MP + 2 MP y cámara frontal de 20 MP. Batería de 5110 mAh con carga rápida de 90W. Cuenta con sensor de huella bajo pantalla, conectividad Bluetooth v5.4, Wi-Fi, GPS, doble SIM nano, pero no es resistente al agua. Dimensiones: 16 cm x 7 cm x 0.8 cm. Producto nuevo con garantía de 6 meses, con exclusiones especificadas.'}]"
      ]
     },
     "execution_count": 17,
     "metadata": {},
     "output_type": "execute_result"
    }
   ],
   "source": [
    "results = get_products(URLS_PRODUCTS)\n",
    "results"
   ]
  },
  {
   "cell_type": "code",
   "execution_count": null,
   "id": "8c0bb1a1",
   "metadata": {},
   "outputs": [
    {
     "data": {
      "text/html": [
       "<div>\n",
       "<style scoped>\n",
       "    .dataframe tbody tr th:only-of-type {\n",
       "        vertical-align: middle;\n",
       "    }\n",
       "\n",
       "    .dataframe tbody tr th {\n",
       "        vertical-align: top;\n",
       "    }\n",
       "\n",
       "    .dataframe thead th {\n",
       "        text-align: right;\n",
       "    }\n",
       "</style>\n",
       "<table border=\"1\" class=\"dataframe\">\n",
       "  <thead>\n",
       "    <tr style=\"text-align: right;\">\n",
       "      <th></th>\n",
       "      <th>ID</th>\n",
       "      <th>TITLE</th>\n",
       "      <th>PRICE</th>\n",
       "      <th>IMAGE_URL</th>\n",
       "      <th>DESCRIPTION</th>\n",
       "    </tr>\n",
       "  </thead>\n",
       "  <tbody>\n",
       "    <tr>\n",
       "      <th>0</th>\n",
       "      <td>140755626</td>\n",
       "      <td>CELULAR XIAOMI REDMI NOTE 14 PRO 4g 8+256GB AZUL</td>\n",
       "      <td>997900.0</td>\n",
       "      <td>https://media.falabella.com/falabellaCO/140755...</td>\n",
       "      <td>El Xiaomi Redmi Note 14 Pro 4G ofrece una expe...</td>\n",
       "    </tr>\n",
       "    <tr>\n",
       "      <th>1</th>\n",
       "      <td>73142852</td>\n",
       "      <td>Celular Samsung Galaxy S24 FE Negro + 128GB 8G...</td>\n",
       "      <td>1819900.0</td>\n",
       "      <td>https://imagedelivery.net/4fYuQyy-r8_rpBpcY7lH...</td>\n",
       "      <td>El Celular Samsung Galaxy S24 FE modelo SM-S72...</td>\n",
       "    </tr>\n",
       "    <tr>\n",
       "      <th>2</th>\n",
       "      <td>140072823</td>\n",
       "      <td>Celular Xiaomi Redmi Note 14 Pro Plus 5G 512 G...</td>\n",
       "      <td>1749900.0</td>\n",
       "      <td>https://media.falabella.com/falabellaCO/140072...</td>\n",
       "      <td>El Celular Xiaomi Redmi Note 14 Pro Plus 5G of...</td>\n",
       "    </tr>\n",
       "  </tbody>\n",
       "</table>\n",
       "</div>"
      ],
      "text/plain": [
       "          ID                                              TITLE      PRICE  \\\n",
       "0  140755626   CELULAR XIAOMI REDMI NOTE 14 PRO 4g 8+256GB AZUL   997900.0   \n",
       "1   73142852  Celular Samsung Galaxy S24 FE Negro + 128GB 8G...  1819900.0   \n",
       "2  140072823  Celular Xiaomi Redmi Note 14 Pro Plus 5G 512 G...  1749900.0   \n",
       "\n",
       "                                           IMAGE_URL  \\\n",
       "0  https://media.falabella.com/falabellaCO/140755...   \n",
       "1  https://imagedelivery.net/4fYuQyy-r8_rpBpcY7lH...   \n",
       "2  https://media.falabella.com/falabellaCO/140072...   \n",
       "\n",
       "                                         DESCRIPTION  \n",
       "0  El Xiaomi Redmi Note 14 Pro 4G ofrece una expe...  \n",
       "1  El Celular Samsung Galaxy S24 FE modelo SM-S72...  \n",
       "2  El Celular Xiaomi Redmi Note 14 Pro Plus 5G of...  "
      ]
     },
     "execution_count": 18,
     "metadata": {},
     "output_type": "execute_result"
    }
   ],
   "source": [
    "df_results = pandas.DataFrame(results)\n",
    "df_results"
   ]
  },
  {
   "cell_type": "code",
   "execution_count": null,
   "id": "e3602993",
   "metadata": {},
   "outputs": [],
   "source": [
    "output_file = open(\"scrapping_producto.json\", \"w\", encoding=\"utf-8\")\n",
    "json.dump(results, output_file, ensure_ascii=False, indent=4)\n",
    "output_file.close()"
   ]
  }
 ],
 "metadata": {
  "kernelspec": {
   "display_name": "nlp",
   "language": "python",
   "name": "python3"
  },
  "language_info": {
   "codemirror_mode": {
    "name": "ipython",
    "version": 3
   },
   "file_extension": ".py",
   "mimetype": "text/x-python",
   "name": "python",
   "nbconvert_exporter": "python",
   "pygments_lexer": "ipython3",
   "version": "3.12.7"
  }
 },
 "nbformat": 4,
 "nbformat_minor": 5
}
